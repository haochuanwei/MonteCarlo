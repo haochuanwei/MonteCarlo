{
 "cells": [
  {
   "cell_type": "code",
   "execution_count": 1,
   "metadata": {},
   "outputs": [],
   "source": [
    "from sampler import *"
   ]
  },
  {
   "cell_type": "code",
   "execution_count": 22,
   "metadata": {},
   "outputs": [],
   "source": [
    "def GaussianCusp(x):\n",
    "    return np.exp(-0.5*(np.abs(x)-10)**2.0)\n",
    "\n",
    "def Gaussian(x):\n",
    "    return np.exp(-0.5*(np.abs(x))**2.0)"
   ]
  },
  {
   "cell_type": "code",
   "execution_count": 23,
   "metadata": {},
   "outputs": [
    {
     "data": {
      "text/plain": [
       "array([0.60653066, 0.13533528])"
      ]
     },
     "execution_count": 23,
     "metadata": {},
     "output_type": "execute_result"
    }
   ],
   "source": [
    "Gaussian(np.array([1, 2]))"
   ]
  },
  {
   "cell_type": "code",
   "execution_count": 24,
   "metadata": {},
   "outputs": [],
   "source": [
    "myCusp = Distribution((1,), GaussianCusp)\n",
    "myNormal = Distribution((1,), Gaussian)"
   ]
  },
  {
   "cell_type": "code",
   "execution_count": 40,
   "metadata": {
    "scrolled": true
   },
   "outputs": [],
   "source": [
    "mySampler = GaussianMetropolis(myNormal, 5.0)"
   ]
  },
  {
   "cell_type": "code",
   "execution_count": 46,
   "metadata": {},
   "outputs": [],
   "source": [
    "mySample = np.concatenate(mySampler.chainSample(100000, burnIn=1000, burnStep=10))"
   ]
  },
  {
   "cell_type": "code",
   "execution_count": 47,
   "metadata": {},
   "outputs": [
    {
     "name": "stdout",
     "output_type": "stream",
     "text": [
      "-0.00037057651418983666\n",
      "1.129131478369229\n"
     ]
    }
   ],
   "source": [
    "print(np.mean(mySample))\n",
    "print(np.std(mySample))"
   ]
  },
  {
   "cell_type": "code",
   "execution_count": 8,
   "metadata": {},
   "outputs": [],
   "source": [
    "import math\n",
    "\n",
    "class Histogram(object):\n",
    "    def __init__(self):\n",
    "        pass\n",
    "    \n",
    "    def make(self, entries, bins=None):\n",
    "        sortedEntries = sorted(entries)\n",
    "        if not bins:\n",
    "            bins = math.sqrt(len(sortedEntries))\n",
    "        binWidth = (sortedEntries[-1] + 1e-12 - sortedEntries[0]) / bins\n",
    "        population = [0] * bins\n",
    "        for entry in sortedEntries:\n",
    "            binIndex = int((entry - sortedEntries[0]) / binWidth)\n",
    "            population[binIndex] += 1\n",
    "        return population"
   ]
  },
  {
   "cell_type": "code",
   "execution_count": 9,
   "metadata": {},
   "outputs": [],
   "source": [
    "myMaker = Histogram()"
   ]
  },
  {
   "cell_type": "code",
   "execution_count": 18,
   "metadata": {},
   "outputs": [
    {
     "data": {
      "text/plain": [
       "[17,\n",
       " 37,\n",
       " 159,\n",
       " 546,\n",
       " 1458,\n",
       " 3534,\n",
       " 7046,\n",
       " 11682,\n",
       " 15449,\n",
       " 16837,\n",
       " 16070,\n",
       " 12360,\n",
       " 7890,\n",
       " 4160,\n",
       " 1853,\n",
       " 627,\n",
       " 199,\n",
       " 60,\n",
       " 9,\n",
       " 7]"
      ]
     },
     "execution_count": 18,
     "metadata": {},
     "output_type": "execute_result"
    }
   ],
   "source": [
    "myMaker.make(mySample, bins=20)"
   ]
  },
  {
   "cell_type": "code",
   "execution_count": null,
   "metadata": {},
   "outputs": [],
   "source": []
  },
  {
   "cell_type": "code",
   "execution_count": null,
   "metadata": {},
   "outputs": [],
   "source": [
    "myBatch = BatchRandomNumbers(1024, np.random.normal, {'loc':0.0, 'scale':1.0, 'size':(2,)})"
   ]
  },
  {
   "cell_type": "code",
   "execution_count": null,
   "metadata": {},
   "outputs": [],
   "source": [
    "%timeit myBatch.draw()"
   ]
  },
  {
   "cell_type": "code",
   "execution_count": null,
   "metadata": {},
   "outputs": [],
   "source": [
    "%timeit np.random.normal(**{'loc':0.0, 'scale':1.0, 'size':(2,10000)})"
   ]
  },
  {
   "cell_type": "code",
   "execution_count": null,
   "metadata": {},
   "outputs": [],
   "source": [
    "myList = [1, 2, 3, 4, 5, 6]"
   ]
  },
  {
   "cell_type": "code",
   "execution_count": null,
   "metadata": {},
   "outputs": [],
   "source": [
    "myList[0::1]"
   ]
  },
  {
   "cell_type": "code",
   "execution_count": null,
   "metadata": {},
   "outputs": [],
   "source": []
  }
 ],
 "metadata": {
  "kernelspec": {
   "display_name": "Python 3",
   "language": "python",
   "name": "python3"
  },
  "language_info": {
   "codemirror_mode": {
    "name": "ipython",
    "version": 3
   },
   "file_extension": ".py",
   "mimetype": "text/x-python",
   "name": "python",
   "nbconvert_exporter": "python",
   "pygments_lexer": "ipython3",
   "version": "3.6.6"
  }
 },
 "nbformat": 4,
 "nbformat_minor": 2
}
